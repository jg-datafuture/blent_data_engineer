{
 "cells": [
  {
   "cell_type": "code",
   "execution_count": null,
   "id": "2981169b-060e-497c-b46d-881ad5b77a13",
   "metadata": {},
   "outputs": [],
   "source": [
    "sudo -i\n",
    "apt-get update\n",
    "apt-get install wget\n",
    "wget -P $SPARK_HOME/jars https://storage.googleapis.com/hadoop-lib/gcs/gcs-connector-latest-hadoop2.jar "
   ]
  },
  {
   "cell_type": "code",
   "execution_count": 1,
   "id": "5746b869-1e80-481b-985e-64df42040e47",
   "metadata": {
    "colab": {
     "base_uri": "https://localhost:8080/",
     "height": 383
    },
    "id": "5746b869-1e80-481b-985e-64df42040e47",
    "outputId": "1b162716-cf74-4da1-c350-85f72b81e7d2"
   },
   "outputs": [
    {
     "name": "stderr",
     "output_type": "stream",
     "text": [
      "Setting default log level to \"WARN\".\n",
      "To adjust logging level use sc.setLogLevel(newLevel). For SparkR, use setLogLevel(newLevel).\n",
      "24/01/11 08:20:51 WARN NativeCodeLoader: Unable to load native-hadoop library for your platform... using builtin-java classes where applicable\n",
      "/home/blent/.local/lib/python3.10/site-packages/pyspark/sql/context.py:112: FutureWarning: Deprecated in 3.0.0. Use SparkSession.builder.getOrCreate() instead.\n",
      "  warnings.warn(\n"
     ]
    }
   ],
   "source": [
    "import pyspark.sql.functions as f\n",
    "\n",
    "from pyspark.sql import SparkSession, SQLContext\n",
    "from pyspark.sql.window import Window\n",
    "import findspark\n",
    "\n",
    "spark = SparkSession \\\n",
    "    .builder \\\n",
    "    .appName(\"PySpark\") \\\n",
    "    .getOrCreate()\n",
    "spark._jsc.hadoopConfiguration().set(\"google.cloud.auth.service.account.json.keyfile\",\"gsc_key.txt\")\n",
    "\n",
    "sc = spark.sparkContext\n",
    "sql_c = SQLContext(spark.sparkContext)\n"
   ]
  },
  {
   "cell_type": "code",
   "execution_count": 2,
   "id": "f17c7dbb-fe05-45db-af15-145f1eeb5cde",
   "metadata": {},
   "outputs": [
    {
     "name": "stderr",
     "output_type": "stream",
     "text": [
      "24/01/11 08:21:02 WARN GarbageCollectionMetrics: To enable non-built-in garbage collector(s) List(G1 Concurrent GC), users should configure it(them) to spark.eventLog.gcMetrics.youngGenerationGarbageCollectors or spark.eventLog.gcMetrics.oldGenerationGarbageCollectors\n"
     ]
    }
   ],
   "source": [
    "#date format YYYY-MM-DD \n",
    "DATE_START=\"2019-10-01\" \n",
    "DATE_END=\"2019-10-03\" \n",
    "#Path et fileName destination\n",
    "DESTINATION=\"gs://projets_blent/ecom/out/\"\n",
    "\n",
    "SOURCE=\"gs://projets_blent/ecom/blent-learning-user-ressources.s3.eu-west-3.amazonaws.com/projects/9c15cb\""
   ]
  },
  {
   "cell_type": "code",
   "execution_count": 3,
   "id": "909a679f-116b-4c6a-a3c2-b0131a21c2ee",
   "metadata": {
    "id": "909a679f-116b-4c6a-a3c2-b0131a21c2ee",
    "outputId": "c6e2829b-3f67-4b22-c3b4-d4b1fcaa1c83"
   },
   "outputs": [
    {
     "name": "stdout",
     "output_type": "stream",
     "text": [
      "Le fichier sample.csv a été téléchargé avec succès.\n",
      "+-------------------+----------+----------+-------------------+-----------------------------------+--------+-------+---------+------------------------------------+\n",
      "|event_time         |event_type|product_id|category_id        |category_code                      |brand   |price  |user_id  |user_session                        |\n",
      "+-------------------+----------+----------+-------------------+-----------------------------------+--------+-------+---------+------------------------------------+\n",
      "|2019-10-01 00:00:00|view      |44600062  |2103807459595387724|null                               |shiseido|35.79  |541312140|72d76fde-8bb3-4e00-8c23-a032dfed738c|\n",
      "|2019-10-01 00:00:00|view      |3900821   |2053013552326770905|appliances.environment.water_heater|aqua    |33.2   |554748717|9333dfbd-b87a-4708-9857-6336556b0fcc|\n",
      "|2019-10-01 00:00:01|view      |17200506  |2053013559792632471|furniture.living_room.sofa         |null    |543.1  |519107250|566511c2-e2e3-422b-b695-cf8e6e792ca8|\n",
      "|2019-10-01 00:00:01|view      |1307067   |2053013558920217191|computers.notebook                 |lenovo  |251.74 |550050854|7c90fc70-0e80-4590-96f3-13c02c18c713|\n",
      "|2019-10-01 00:00:04|view      |1004237   |2053013555631882655|electronics.smartphone             |apple   |1081.98|535871217|c6bd7419-2748-4c56-95b4-8cec9ff8b80d|\n",
      "|2019-10-01 00:00:05|view      |1480613   |2053013561092866779|computers.desktop                  |pulser  |908.62 |512742880|0d0d91c2-c9c2-4e81-90a5-86594dec0db9|\n",
      "|2019-10-01 00:00:08|view      |17300353  |2053013553853497655|null                               |creed   |380.96 |555447699|4fe811e9-91de-46da-90c3-bbd87ed3a65d|\n",
      "|2019-10-01 00:00:08|view      |31500053  |2053013558031024687|null                               |luminarc|41.16  |550978835|6280d577-25c8-4147-99a7-abc6048498d6|\n",
      "|2019-10-01 00:00:10|view      |28719074  |2053013565480109009|apparel.shoes.keds                 |baden   |102.71 |520571932|ac1cd4e5-a3ce-4224-a2d7-ff660a105880|\n",
      "|2019-10-01 00:00:11|view      |1004545   |2053013555631882655|electronics.smartphone             |huawei  |566.01 |537918940|406c46ed-90a4-4787-a43b-59a410c1a5fb|\n",
      "+-------------------+----------+----------+-------------------+-----------------------------------+--------+-------+---------+------------------------------------+\n",
      "only showing top 10 rows\n",
      "\n"
     ]
    }
   ],
   "source": [
    "#test avec un fichier sample  \n",
    "import os\n",
    "import urllib.request\n",
    "from subprocess import run\n",
    "\n",
    "# URL du fichier à télécharger\n",
    "url = \"https://blent-learning-user-ressources.s3.eu-west-3.amazonaws.com/projects/9c15cb/sample.csv\"\n",
    "\n",
    "# Nom du fichier de destination\n",
    "destination_file = os.path.join( \"sample.csv\")\n",
    "\n",
    "try:\n",
    "    # Télécharger le fichier seulement s'il n'existe pas déjà\n",
    "    if not os.path.exists(destination_file):\n",
    "        urllib.request.urlretrieve(url, destination_file)\n",
    "        print(f\"Le fichier {destination_file} a été téléchargé avec succès.\")\n",
    "    else:\n",
    "        print(f\"Le fichier {destination_file} existe déjà.\")\n",
    "except Exception as e:\n",
    "    print(f\"Une erreur s'est produite : {str(e)}\")\n",
    "\n",
    "data = spark.read.csv(\"sample.csv\",\n",
    "                      header=True)\n",
    "data.show(10,truncate=False)"
   ]
  },
  {
   "cell_type": "code",
   "execution_count": 27,
   "id": "5f799cde-9784-410d-a7ff-9fd21ea47433",
   "metadata": {
    "id": "5f799cde-9784-410d-a7ff-9fd21ea47433",
    "outputId": "63a9d8d6-714b-4bbd-fea8-46a4c343c9f1",
    "tags": []
   },
   "outputs": [
    {
     "name": "stdout",
     "output_type": "stream",
     "text": [
      "+-----------------------+----------+----------+-------------------+-----------------------------------+--------+-------+---------+------------------------------------+\n",
      "|event_time             |event_type|product_id|category_id        |category_code                      |brand   |price  |user_id  |user_session                        |\n",
      "+-----------------------+----------+----------+-------------------+-----------------------------------+--------+-------+---------+------------------------------------+\n",
      "|2019-10-01 00:00:00 UTC|view      |44600062  |2103807459595387724|null                               |shiseido|35.79  |541312140|72d76fde-8bb3-4e00-8c23-a032dfed738c|\n",
      "|2019-10-01 00:00:00 UTC|view      |3900821   |2053013552326770905|appliances.environment.water_heater|aqua    |33.20  |554748717|9333dfbd-b87a-4708-9857-6336556b0fcc|\n",
      "|2019-10-01 00:00:01 UTC|view      |17200506  |2053013559792632471|furniture.living_room.sofa         |null    |543.10 |519107250|566511c2-e2e3-422b-b695-cf8e6e792ca8|\n",
      "|2019-10-01 00:00:01 UTC|view      |1307067   |2053013558920217191|computers.notebook                 |lenovo  |251.74 |550050854|7c90fc70-0e80-4590-96f3-13c02c18c713|\n",
      "|2019-10-01 00:00:04 UTC|view      |1004237   |2053013555631882655|electronics.smartphone             |apple   |1081.98|535871217|c6bd7419-2748-4c56-95b4-8cec9ff8b80d|\n",
      "|2019-10-01 00:00:05 UTC|view      |1480613   |2053013561092866779|computers.desktop                  |pulser  |908.62 |512742880|0d0d91c2-c9c2-4e81-90a5-86594dec0db9|\n",
      "|2019-10-01 00:00:08 UTC|view      |17300353  |2053013553853497655|null                               |creed   |380.96 |555447699|4fe811e9-91de-46da-90c3-bbd87ed3a65d|\n",
      "|2019-10-01 00:00:08 UTC|view      |31500053  |2053013558031024687|null                               |luminarc|41.16  |550978835|6280d577-25c8-4147-99a7-abc6048498d6|\n",
      "|2019-10-01 00:00:10 UTC|view      |28719074  |2053013565480109009|apparel.shoes.keds                 |baden   |102.71 |520571932|ac1cd4e5-a3ce-4224-a2d7-ff660a105880|\n",
      "|2019-10-01 00:00:11 UTC|view      |1004545   |2053013555631882655|electronics.smartphone             |huawei  |566.01 |537918940|406c46ed-90a4-4787-a43b-59a410c1a5fb|\n",
      "+-----------------------+----------+----------+-------------------+-----------------------------------+--------+-------+---------+------------------------------------+\n",
      "only showing top 10 rows\n",
      "\n"
     ]
    }
   ],
   "source": [
    "# Chargements des fichiers csv du bucket\n",
    "data = spark.read.csv(SOURCE+\"/2019-Oct.csv\",\n",
    "                      header=True)\n",
    "\n",
    "data.show(10,truncate=False)"
   ]
  },
  {
   "cell_type": "code",
   "execution_count": 4,
   "id": "4308e2b0-5f56-4619-90bf-7155d0f00efc",
   "metadata": {
    "id": "4308e2b0-5f56-4619-90bf-7155d0f00efc",
    "jp-MarkdownHeadingCollapsed": true,
    "outputId": "d3b794c2-85c8-4456-ad53-93bb8db4d1bc"
   },
   "outputs": [
    {
     "name": "stdout",
     "output_type": "stream",
     "text": [
      "root\n",
      " |-- event_time: timestamp (nullable = true)\n",
      " |-- event_type: string (nullable = true)\n",
      " |-- product_id: integer (nullable = true)\n",
      " |-- category_id: integer (nullable = true)\n",
      " |-- category_code: string (nullable = true)\n",
      " |-- brand: string (nullable = true)\n",
      " |-- price: float (nullable = true)\n",
      " |-- user_id: integer (nullable = true)\n",
      " |-- user_session: string (nullable = true)\n",
      "\n",
      "Filtre du 2019-10-01 au 2019-10-03\n"
     ]
    },
    {
     "name": "stderr",
     "output_type": "stream",
     "text": [
      "[Stage 2:>                                                          (0 + 3) / 3]\r"
     ]
    },
    {
     "name": "stdout",
     "output_type": "stream",
     "text": [
      "1244245 lignes\n"
     ]
    },
    {
     "name": "stderr",
     "output_type": "stream",
     "text": [
      "                                                                                \r"
     ]
    }
   ],
   "source": [
    "#conversion des colonnes et filtre sur les dates spécifiés en paramètres\n",
    "\n",
    "data = data.withColumn(\"event_time\", f.col(\"event_time\").cast(\"timestamp\"))\\\n",
    "           .filter( ( f.col(\"event_time\")>= DATE_START) &  ( f.col(\"event_time\") <= DATE_END ) )\\\n",
    "           .withColumn(\"product_id\", f.col(\"product_id\").cast(\"int\"))\\\n",
    "           .withColumn(\"category_id\", f.col(\"product_id\").cast(\"int\"))\\\n",
    "           .withColumn(\"price\", f.col(\"price\").cast(\"float\"))\\\n",
    "           .withColumn(\"user_id\", f.col(\"user_id\").cast(\"int\"))\n",
    "\n",
    "data.printSchema()\n",
    "print('Filtre du '+DATE_START+ \" au \" + DATE_END)\n",
    "print( str(data.count()) + ' lignes')\n",
    "#1244245 "
   ]
  },
  {
   "cell_type": "code",
   "execution_count": 5,
   "id": "91ad47e6-13c3-45b5-9654-a7686a9f2b6c",
   "metadata": {
    "id": "91ad47e6-13c3-45b5-9654-a7686a9f2b6c",
    "outputId": "22773191-9920-4e8e-e208-370e64920e47"
   },
   "outputs": [
    {
     "name": "stderr",
     "output_type": "stream",
     "text": [
      "                                                                                \r"
     ]
    },
    {
     "name": "stdout",
     "output_type": "stream",
     "text": [
      "1244245 lignes dans data_cible\n"
     ]
    },
    {
     "name": "stderr",
     "output_type": "stream",
     "text": [
      "[Stage 8:>                                                          (0 + 3) / 3]\r"
     ]
    },
    {
     "name": "stdout",
     "output_type": "stream",
     "text": [
      "+----------+--------------------+---------+-----------+--------------------+-------+------+------------+-----------------+---------+\n",
      "|product_id|        user_session|  user_id|category_id|       category_code|  brand| price|nb_purchased|num_views_product|purchased|\n",
      "+----------+--------------------+---------+-----------+--------------------+-------+------+------------+-----------------+---------+\n",
      "|   1307067|7c90fc70-0e80-459...|550050854|    1307067|  computers.notebook| lenovo|251.74|           0|                2|    false|\n",
      "|  18500019|37b4834e-2519-7fc...|516285392|   18500019|  electronics.tablet|  wacom|108.63|           0|                1|    false|\n",
      "|   1005115|44fa61e3-efed-48d...|512769168|    1005115|electronics.smart...|  apple|975.57|           0|                1|    false|\n",
      "|  28711902|ad4beff7-d2e4-421...|547469497|   28711902|apparel.shoes.sli...|bugatti| 47.62|           0|                5|    false|\n",
      "|   1005160|b1404e42-94e4-4ef...|539456226|    1005160|electronics.smart...| xiaomi|231.41|           0|                1|    false|\n",
      "+----------+--------------------+---------+-----------+--------------------+-------+------+------------+-----------------+---------+\n",
      "only showing top 5 rows\n",
      "\n"
     ]
    },
    {
     "name": "stderr",
     "output_type": "stream",
     "text": [
      "                                                                                \r"
     ]
    }
   ],
   "source": [
    "#granularité cible : user_session/product_id\n",
    "#avec calcul colonne purcharsed/num_view_product\n",
    "data_cible = data.withColumn(\n",
    "                        'nb_purchased',\n",
    "                        f.when(f.col('event_type') == 'purchase', 1).otherwise(0)\n",
    "                  ) \\\n",
    "                 .withColumn(\n",
    "                        'nb_views',\n",
    "                        f.when(f.col('event_type') == 'view', 1).otherwise(0)\n",
    "                    ) \\\n",
    "                 .groupBy(\"product_id\",\"user_session\",\"user_id\",\"category_id\",\"category_code\",\"brand\",\"price\") \\\n",
    "                 .agg(\n",
    "                    f.sum('nb_purchased').alias('nb_purchased'),\n",
    "                    f.sum('nb_views').alias('num_views_product')\n",
    "                 )\\\n",
    "                 .withColumn(\n",
    "                        'purchased',\n",
    "                         f.when(f.col('nb_purchased') > 0, f.lit(True)).otherwise(f.lit(False))\n",
    "                  )\n",
    "\n",
    "print( str(data.count()) + ' lignes dans data_cible')\n",
    "data_cible.show(5)\n"
   ]
  },
  {
   "cell_type": "code",
   "execution_count": 21,
   "id": "37ce5d24-8da2-48a3-9da9-97fa9a0e4696",
   "metadata": {},
   "outputs": [
    {
     "name": "stderr",
     "output_type": "stream",
     "text": [
      "                                                                                \r"
     ]
    },
    {
     "name": "stdout",
     "output_type": "stream",
     "text": [
      "1244245 lignes dans data_session\n"
     ]
    },
    {
     "name": "stderr",
     "output_type": "stream",
     "text": [
      "[Stage 174:===================>                                     (1 + 2) / 3]\r"
     ]
    },
    {
     "name": "stdout",
     "output_type": "stream",
     "text": [
      "+--------------------+---------+-------------------+-------------------+-----------------+------------------+-----------------+-----------------+--------------------+-----------------+\n",
      "|        user_session|  user_id| date_session_start|   date_session_end|num_views_session|hour_session_start|min_session_start|day_session_start|            duration|num_prev_sessions|\n",
      "+--------------------+---------+-------------------+-------------------+-----------------+------------------+-----------------+-----------------+--------------------+-----------------+\n",
      "|91769fdf-461b-4e4...|244951053|2019-10-01 08:47:35|2019-10-01 08:48:28|                2|                 8|               47|                3|INTERVAL '0 00:00...|                1|\n",
      "|0051531b-c007-442...|292071852|2019-10-01 17:06:51|2019-10-01 17:06:51|                1|                17|                6|                3|INTERVAL '0 00:00...|                1|\n",
      "|d146126f-ce44-48d...|293291933|2019-10-01 18:58:32|2019-10-01 19:03:11|                4|                18|               58|                3|INTERVAL '0 00:04...|                1|\n",
      "|85e3fda6-c15d-488...|293291933|2019-10-01 19:03:31|2019-10-01 19:03:31|                1|                19|                3|                3|INTERVAL '0 00:00...|                2|\n",
      "|a15f469a-968f-4c8...|306087674|2019-10-01 17:07:37|2019-10-01 17:07:37|                1|                17|                7|                3|INTERVAL '0 00:00...|                1|\n",
      "+--------------------+---------+-------------------+-------------------+-----------------+------------------+-----------------+-----------------+--------------------+-----------------+\n",
      "only showing top 5 rows\n",
      "\n"
     ]
    },
    {
     "name": "stderr",
     "output_type": "stream",
     "text": [
      "                                                                                \r"
     ]
    }
   ],
   "source": [
    "#granularité  : user_session\n",
    "#avec calcul colonnes \n",
    "data_session = data.withColumn(\n",
    "                        'nb_views',\n",
    "                        f.when(f.col('event_type') == 'view', 1).otherwise(0)\n",
    "                    ) \\\n",
    "                 .groupBy(\"user_session\",\"user_id\") \\\n",
    "                 .agg(\n",
    "                    f.min('event_time').alias('date_session_start'),\n",
    "                    f.max('event_time').alias('date_session_end'),\n",
    "                    f.sum('nb_views').alias('num_views_session')\n",
    "                 )\\\n",
    "                 .withColumn( \"hour_session_start\", f.hour(\"date_session_start\") ) \\\n",
    "                 .withColumn( \"min_session_start\", f.minute(\"date_session_start\") ) \\\n",
    "                 .withColumn( \"day_session_start\", f.dayofweek(\"date_session_start\") ) \\\n",
    "                 .withColumn( \"duration\",  (f.col(\"date_session_end\") - f.col(\"date_session_start\")))\\\n",
    "                 .withColumn(\"num_prev_sessions\", f.row_number().over(Window.partitionBy(\"user_id\").orderBy(\"date_session_start\")))\n",
    "\n",
    "print( str(data.count()) + ' lignes dans data_session')\n",
    "data_session.show(5)"
   ]
  },
  {
   "cell_type": "code",
   "execution_count": null,
   "id": "384455a3-e66b-4204-96c1-acf3418997cd",
   "metadata": {},
   "outputs": [],
   "source": []
  },
  {
   "cell_type": "code",
   "execution_count": 17,
   "id": "ec89ff47-1291-440c-beff-058a6bbbf1ec",
   "metadata": {
    "id": "ec89ff47-1291-440c-beff-058a6bbbf1ec",
    "outputId": "a038e9bb-c664-4958-ef88-9ee4bd6b2cee",
    "scrolled": true
   },
   "outputs": [
    {
     "name": "stderr",
     "output_type": "stream",
     "text": [
      "                                                                                \r"
     ]
    },
    {
     "name": "stdout",
     "output_type": "stream",
     "text": [
      "+----------+------------------------------------+---------+-----------+----------------------+--------+-----+---------+-----------------+-----------------+------------------+-----------------+-----------------+-------------------+-----------------------------------+-----------------+----------------------+\n",
      "|product_id|user_session                        |user_id  |category_id|category_code         |brand   |price|purchased|num_views_product|num_views_session|hour_session_start|min_session_start|day_session_start|date_session_start |duration                           |num_prev_sessions|num_prev_product_views|\n",
      "+----------+------------------------------------+---------+-----------+----------------------+--------+-----+---------+-----------------+-----------------+------------------+-----------------+-----------------+-------------------+-----------------------------------+-----------------+----------------------+\n",
      "|1003535   |91769fdf-461b-4e43-9c73-88a07481b75c|244951053|1003535    |electronics.smartphone|samsung |460.5|false    |2                |2                |8                 |47               |3                |2019-10-01 08:47:35|INTERVAL '0 00:00:53' DAY TO SECOND|1                |2                     |\n",
      "|16000299  |70d27bfa-e05f-4f30-b533-0ffc1587f216|260013793|16000299   |null                  |rondell |20.31|false    |1                |23               |17                |45               |3                |2019-10-01 17:45:30|INTERVAL '0 00:15:14' DAY TO SECOND|1                |1                     |\n",
      "|16000346  |70d27bfa-e05f-4f30-b533-0ffc1587f216|260013793|16000346   |null                  |berghoff|30.37|false    |1                |23               |17                |45               |3                |2019-10-01 17:45:30|INTERVAL '0 00:15:14' DAY TO SECOND|1                |1                     |\n",
      "|16000702  |70d27bfa-e05f-4f30-b533-0ffc1587f216|260013793|16000702   |null                  |agness  |30.7 |false    |1                |23               |17                |45               |3                |2019-10-01 17:45:30|INTERVAL '0 00:15:14' DAY TO SECOND|1                |1                     |\n",
      "|16000950  |70d27bfa-e05f-4f30-b533-0ffc1587f216|260013793|16000950   |null                  |metrot  |43.71|false    |1                |23               |17                |45               |3                |2019-10-01 17:45:30|INTERVAL '0 00:15:14' DAY TO SECOND|1                |1                     |\n",
      "+----------+------------------------------------+---------+-----------+----------------------+--------+-----+---------+-----------------+-----------------+------------------+-----------------+-----------------+-------------------+-----------------------------------+-----------------+----------------------+\n",
      "only showing top 5 rows\n",
      "\n"
     ]
    },
    {
     "name": "stderr",
     "output_type": "stream",
     "text": [
      "[Stage 168:>                                                        (0 + 3) / 3]\r"
     ]
    },
    {
     "name": "stdout",
     "output_type": "stream",
     "text": [
      "1244245 lignes dans final_data\n"
     ]
    },
    {
     "name": "stderr",
     "output_type": "stream",
     "text": [
      "                                                                                \r"
     ]
    }
   ],
   "source": [
    "#Jointure des tables précédements calculés\n",
    "final_data = data_cible.alias(\"d\").join(data_session.alias(\"session\"),\n",
    "                            ( ( data_cible.user_session ==  data_session.user_session) & ( data_cible.user_id ==  data_session.user_id) )\n",
    "                            ,\"outer\")\\\n",
    "                       .select(\"product_id\",\"d.user_session\",\"d.user_id\" ,\"category_id\",\"category_code\",\"brand\",\"price\",\"purchased\"\\\n",
    "                               ,\"num_views_product\",\"num_views_session\",\"hour_session_start\",\"min_session_start\",\"day_session_start\",\"date_session_start\"\\\n",
    "                               ,\"duration\",\"num_prev_sessions\")\\\n",
    "                       .withColumn(\"num_prev_product_views\", f.sum(\"d.num_views_product\").over(Window().partitionBy(\"user_id\",\"product_id\").orderBy(\"session.date_session_start\").rowsBetween(Window.unboundedPreceding, Window.currentRow) ))\n",
    "\n",
    "\n",
    "#check calcul num_prev_product_views\n",
    "#final_data.filter(f.col(\"user_id\") == \"518626190\" ).show(100,truncate=False)\n",
    "#final_data.groupBy(\"d.user_id\",\"d.product_id\").count().alias(\"nb\").filter( f.col(\"nb.count\").cast(\"int\") > 1 ).show()\n",
    "final_data.show(5,truncate=False)\n",
    "final_data.count()\n",
    "print( str(data.count()) + ' lignes dans final_data')\n",
    "\n"
   ]
  },
  {
   "cell_type": "code",
   "execution_count": 10,
   "id": "PN_8Ub68LD1i",
   "metadata": {
    "id": "PN_8Ub68LD1i"
   },
   "outputs": [
    {
     "name": "stderr",
     "output_type": "stream",
     "text": [
      "                                                                                \r"
     ]
    },
    {
     "name": "stdout",
     "output_type": "stream",
     "text": [
      "Fichier out généré :gs://projets_blent/ecom/out//240111082921_EcomData_2019-10-01_2019-10-03.csv\n"
     ]
    }
   ],
   "source": [
    "from datetime import datetime\n",
    "\n",
    "file_name=datetime.now().strftime(\"%y%m%d%H%M%S\")+\"_EcomData_\"+DATE_START+\"_\"+DATE_END+\".csv\"\n",
    "\n",
    "#Ecriture du fichier csv final\n",
    "final_data.write.option(\"header\",True) \\\n",
    "                .csv(DESTINATION+\"/\"+file_name)\n",
    "\n",
    "print( 'Fichier out généré : '+DESTINATION+\"/\"+file_name )\n"
   ]
  },
  {
   "cell_type": "code",
   "execution_count": null,
   "id": "8d3a046f-6457-452d-8487-f3d98e0bb441",
   "metadata": {},
   "outputs": [],
   "source": []
  }
 ],
 "metadata": {
  "colab": {
   "provenance": []
  },
  "kernelspec": {
   "display_name": "Python 3 (ipykernel)",
   "language": "python",
   "name": "python3"
  },
  "language_info": {
   "codemirror_mode": {
    "name": "ipython",
    "version": 3
   },
   "file_extension": ".py",
   "mimetype": "text/x-python",
   "name": "python",
   "nbconvert_exporter": "python",
   "pygments_lexer": "ipython3",
   "version": "3.10.5"
  }
 },
 "nbformat": 4,
 "nbformat_minor": 5
}
